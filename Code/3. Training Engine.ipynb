{
 "cells": [
  {
   "cell_type": "code",
   "execution_count": 285,
   "metadata": {},
   "outputs": [],
   "source": [
    "import numpy as np \n",
    "import pandas as pd \n",
    "import matplotlib.pyplot as plt\n",
    "import seaborn as sns\n",
    "sns.set_style(\"whitegrid\")\n",
    "\n",
    "import glob \n",
    "import os\n",
    "import optuna\n",
    "\n",
    "# Sckit-Learn\n",
    "from sklearn.preprocessing import LabelEncoder\n",
    "from sklearn.model_selection import train_test_split\n",
    "from sklearn.preprocessing import StandardScaler\n",
    "from sklearn.cluster import DBSCAN\n",
    "from sklearn.model_selection import GridSearchCV\n",
    "\n",
    "# Classifier Models\n",
    "from sklearn.ensemble import BaggingClassifier, AdaBoostClassifier\n",
    "from sklearn.tree import DecisionTreeClassifier\n",
    "import xgboost as xgb\n",
    "from xgboost import XGBClassifier\n",
    "from xgboost import cv\n",
    "import gc\n",
    "from sklearn.model_selection import KFold, GroupKFold\n",
    "\n",
    "# Metrics \n",
    "from sklearn.metrics import accuracy_score\n",
    "from sklearn.metrics import hamming_loss\n",
    "from sklearn.metrics import precision_score, recall_score, f1_score, confusion_matrix, log_loss\n",
    "\n",
    "# Warnings\n",
    "import warnings\n",
    "warnings.filterwarnings('ignore')"
   ]
  },
  {
   "cell_type": "code",
   "execution_count": 286,
   "metadata": {},
   "outputs": [
    {
     "data": {
      "text/html": [
       "<div>\n",
       "<style scoped>\n",
       "    .dataframe tbody tr th:only-of-type {\n",
       "        vertical-align: middle;\n",
       "    }\n",
       "\n",
       "    .dataframe tbody tr th {\n",
       "        vertical-align: top;\n",
       "    }\n",
       "\n",
       "    .dataframe thead th {\n",
       "        text-align: right;\n",
       "    }\n",
       "</style>\n",
       "<table border=\"1\" class=\"dataframe\">\n",
       "  <thead>\n",
       "    <tr style=\"text-align: right;\">\n",
       "      <th></th>\n",
       "      <th>spec_id</th>\n",
       "      <th>PCA_mean</th>\n",
       "      <th>PCA_std</th>\n",
       "      <th>PCA_max</th>\n",
       "      <th>PCA_min</th>\n",
       "      <th>DBSCAN_Cluster</th>\n",
       "    </tr>\n",
       "  </thead>\n",
       "  <tbody>\n",
       "    <tr>\n",
       "      <th>0</th>\n",
       "      <td>789577333</td>\n",
       "      <td>1.291896e-15</td>\n",
       "      <td>19.261924</td>\n",
       "      <td>240.598954</td>\n",
       "      <td>-4.704242</td>\n",
       "      <td>-1</td>\n",
       "    </tr>\n",
       "    <tr>\n",
       "      <th>1</th>\n",
       "      <td>1552638400</td>\n",
       "      <td>0.000000e+00</td>\n",
       "      <td>13.660815</td>\n",
       "      <td>57.496412</td>\n",
       "      <td>-16.031266</td>\n",
       "      <td>-1</td>\n",
       "    </tr>\n",
       "    <tr>\n",
       "      <th>2</th>\n",
       "      <td>14960202</td>\n",
       "      <td>1.114577e-15</td>\n",
       "      <td>11.647719</td>\n",
       "      <td>110.324860</td>\n",
       "      <td>-10.831656</td>\n",
       "      <td>-1</td>\n",
       "    </tr>\n",
       "    <tr>\n",
       "      <th>3</th>\n",
       "      <td>618728447</td>\n",
       "      <td>-2.870880e-16</td>\n",
       "      <td>12.895300</td>\n",
       "      <td>42.057751</td>\n",
       "      <td>-26.740369</td>\n",
       "      <td>-1</td>\n",
       "    </tr>\n",
       "    <tr>\n",
       "      <th>4</th>\n",
       "      <td>52296320</td>\n",
       "      <td>0.000000e+00</td>\n",
       "      <td>12.058408</td>\n",
       "      <td>95.127388</td>\n",
       "      <td>-11.011810</td>\n",
       "      <td>-1</td>\n",
       "    </tr>\n",
       "  </tbody>\n",
       "</table>\n",
       "</div>"
      ],
      "text/plain": [
       "      spec_id      PCA_mean    PCA_std     PCA_max    PCA_min  DBSCAN_Cluster\n",
       "0   789577333  1.291896e-15  19.261924  240.598954  -4.704242              -1\n",
       "1  1552638400  0.000000e+00  13.660815   57.496412 -16.031266              -1\n",
       "2    14960202  1.114577e-15  11.647719  110.324860 -10.831656              -1\n",
       "3   618728447 -2.870880e-16  12.895300   42.057751 -26.740369              -1\n",
       "4    52296320  0.000000e+00  12.058408   95.127388 -11.011810              -1"
      ]
     },
     "execution_count": 286,
     "metadata": {},
     "output_type": "execute_result"
    }
   ],
   "source": [
    "df_spectrogram = pd.read_csv('./New_all_Spectrogram_df.csv')\n",
    "df_train = pd.read_csv('./Cleaned_Train.csv')\n",
    "DBSCAN_df = pd.read_csv('./DBSCAN_all_Spectrogram_df.csv')\n",
    "\n",
    "# df_train.head()\n",
    "DBSCAN_df.head()"
   ]
  },
  {
   "cell_type": "code",
   "execution_count": 287,
   "metadata": {},
   "outputs": [
    {
     "data": {
      "text/html": [
       "<div>\n",
       "<style scoped>\n",
       "    .dataframe tbody tr th:only-of-type {\n",
       "        vertical-align: middle;\n",
       "    }\n",
       "\n",
       "    .dataframe tbody tr th {\n",
       "        vertical-align: top;\n",
       "    }\n",
       "\n",
       "    .dataframe thead th {\n",
       "        text-align: right;\n",
       "    }\n",
       "</style>\n",
       "<table border=\"1\" class=\"dataframe\">\n",
       "  <thead>\n",
       "    <tr style=\"text-align: right;\">\n",
       "      <th></th>\n",
       "      <th>spec_id</th>\n",
       "      <th>PCA_mean</th>\n",
       "      <th>PCA_std</th>\n",
       "      <th>PCA_max</th>\n",
       "      <th>PCA_min</th>\n",
       "      <th>DBSCAN_Cluster</th>\n",
       "    </tr>\n",
       "  </thead>\n",
       "  <tbody>\n",
       "    <tr>\n",
       "      <th>0</th>\n",
       "      <td>789577333</td>\n",
       "      <td>1.291896e-15</td>\n",
       "      <td>19.261924</td>\n",
       "      <td>240.598954</td>\n",
       "      <td>-4.704242</td>\n",
       "      <td>-1</td>\n",
       "    </tr>\n",
       "    <tr>\n",
       "      <th>1</th>\n",
       "      <td>1552638400</td>\n",
       "      <td>0.000000e+00</td>\n",
       "      <td>13.660815</td>\n",
       "      <td>57.496412</td>\n",
       "      <td>-16.031266</td>\n",
       "      <td>-1</td>\n",
       "    </tr>\n",
       "    <tr>\n",
       "      <th>2</th>\n",
       "      <td>14960202</td>\n",
       "      <td>5.572884e-16</td>\n",
       "      <td>11.647719</td>\n",
       "      <td>110.324860</td>\n",
       "      <td>-10.831656</td>\n",
       "      <td>-1</td>\n",
       "    </tr>\n",
       "    <tr>\n",
       "      <th>3</th>\n",
       "      <td>618728447</td>\n",
       "      <td>0.000000e+00</td>\n",
       "      <td>12.895300</td>\n",
       "      <td>42.057751</td>\n",
       "      <td>-26.740369</td>\n",
       "      <td>-1</td>\n",
       "    </tr>\n",
       "    <tr>\n",
       "      <th>4</th>\n",
       "      <td>52296320</td>\n",
       "      <td>0.000000e+00</td>\n",
       "      <td>12.058408</td>\n",
       "      <td>95.127388</td>\n",
       "      <td>-11.011810</td>\n",
       "      <td>-1</td>\n",
       "    </tr>\n",
       "  </tbody>\n",
       "</table>\n",
       "</div>"
      ],
      "text/plain": [
       "      spec_id      PCA_mean    PCA_std     PCA_max    PCA_min  DBSCAN_Cluster\n",
       "0   789577333  1.291896e-15  19.261924  240.598954  -4.704242              -1\n",
       "1  1552638400  0.000000e+00  13.660815   57.496412 -16.031266              -1\n",
       "2    14960202  5.572884e-16  11.647719  110.324860 -10.831656              -1\n",
       "3   618728447  0.000000e+00  12.895300   42.057751 -26.740369              -1\n",
       "4    52296320  0.000000e+00  12.058408   95.127388 -11.011810              -1"
      ]
     },
     "execution_count": 287,
     "metadata": {},
     "output_type": "execute_result"
    }
   ],
   "source": [
    "df_spectrogram.head()"
   ]
  },
  {
   "cell_type": "code",
   "execution_count": 288,
   "metadata": {},
   "outputs": [
    {
     "data": {
      "text/html": [
       "<div>\n",
       "<style scoped>\n",
       "    .dataframe tbody tr th:only-of-type {\n",
       "        vertical-align: middle;\n",
       "    }\n",
       "\n",
       "    .dataframe tbody tr th {\n",
       "        vertical-align: top;\n",
       "    }\n",
       "\n",
       "    .dataframe thead th {\n",
       "        text-align: right;\n",
       "    }\n",
       "</style>\n",
       "<table border=\"1\" class=\"dataframe\">\n",
       "  <thead>\n",
       "    <tr style=\"text-align: right;\">\n",
       "      <th></th>\n",
       "      <th>spec_id</th>\n",
       "      <th>Delta_mean</th>\n",
       "      <th>Delta_std</th>\n",
       "      <th>Delta_max</th>\n",
       "      <th>Delta_min</th>\n",
       "      <th>Theta_mean</th>\n",
       "      <th>Theta_std</th>\n",
       "      <th>Theta_max</th>\n",
       "      <th>Theta_min</th>\n",
       "      <th>Alpha_mean</th>\n",
       "      <th>...</th>\n",
       "      <th>Alpha_max</th>\n",
       "      <th>Alpha_min</th>\n",
       "      <th>Beta_mean</th>\n",
       "      <th>Beta_std</th>\n",
       "      <th>Beta_max</th>\n",
       "      <th>Beta_min</th>\n",
       "      <th>Gamma_mean</th>\n",
       "      <th>Gamma_std</th>\n",
       "      <th>Gamma_max</th>\n",
       "      <th>Gamma_min</th>\n",
       "    </tr>\n",
       "  </thead>\n",
       "  <tbody>\n",
       "    <tr>\n",
       "      <th>0</th>\n",
       "      <td>789577333</td>\n",
       "      <td>-0.084822</td>\n",
       "      <td>5.423150</td>\n",
       "      <td>18.199330</td>\n",
       "      <td>-13.821374</td>\n",
       "      <td>-0.003952</td>\n",
       "      <td>5.746205</td>\n",
       "      <td>23.635178</td>\n",
       "      <td>-19.328606</td>\n",
       "      <td>0.012400</td>\n",
       "      <td>...</td>\n",
       "      <td>20.316888</td>\n",
       "      <td>-21.583509</td>\n",
       "      <td>-0.031316</td>\n",
       "      <td>11.087311</td>\n",
       "      <td>82.140423</td>\n",
       "      <td>-85.545198</td>\n",
       "      <td>0.009573</td>\n",
       "      <td>8.853334</td>\n",
       "      <td>68.455779</td>\n",
       "      <td>-60.802076</td>\n",
       "    </tr>\n",
       "    <tr>\n",
       "      <th>1</th>\n",
       "      <td>1552638400</td>\n",
       "      <td>1.229371</td>\n",
       "      <td>7.990273</td>\n",
       "      <td>15.151297</td>\n",
       "      <td>-15.308333</td>\n",
       "      <td>-0.121370</td>\n",
       "      <td>4.752720</td>\n",
       "      <td>12.796805</td>\n",
       "      <td>-13.534956</td>\n",
       "      <td>0.053858</td>\n",
       "      <td>...</td>\n",
       "      <td>8.339128</td>\n",
       "      <td>-8.147426</td>\n",
       "      <td>-0.008322</td>\n",
       "      <td>5.166826</td>\n",
       "      <td>17.001601</td>\n",
       "      <td>-19.983837</td>\n",
       "      <td>0.006472</td>\n",
       "      <td>2.391511</td>\n",
       "      <td>9.647242</td>\n",
       "      <td>-11.055717</td>\n",
       "    </tr>\n",
       "    <tr>\n",
       "      <th>2</th>\n",
       "      <td>14960202</td>\n",
       "      <td>-0.094342</td>\n",
       "      <td>5.023570</td>\n",
       "      <td>14.538416</td>\n",
       "      <td>-15.997628</td>\n",
       "      <td>-0.006453</td>\n",
       "      <td>3.348026</td>\n",
       "      <td>13.126677</td>\n",
       "      <td>-13.095612</td>\n",
       "      <td>0.002106</td>\n",
       "      <td>...</td>\n",
       "      <td>13.660389</td>\n",
       "      <td>-14.417615</td>\n",
       "      <td>-0.001205</td>\n",
       "      <td>4.936423</td>\n",
       "      <td>34.169014</td>\n",
       "      <td>-28.813385</td>\n",
       "      <td>-0.000437</td>\n",
       "      <td>3.537729</td>\n",
       "      <td>20.433267</td>\n",
       "      <td>-21.004481</td>\n",
       "    </tr>\n",
       "    <tr>\n",
       "      <th>3</th>\n",
       "      <td>618728447</td>\n",
       "      <td>-0.201644</td>\n",
       "      <td>9.499750</td>\n",
       "      <td>33.493660</td>\n",
       "      <td>-17.531851</td>\n",
       "      <td>-0.000698</td>\n",
       "      <td>2.265310</td>\n",
       "      <td>8.155790</td>\n",
       "      <td>-7.083481</td>\n",
       "      <td>-0.003954</td>\n",
       "      <td>...</td>\n",
       "      <td>6.207452</td>\n",
       "      <td>-5.562863</td>\n",
       "      <td>-0.003710</td>\n",
       "      <td>3.744100</td>\n",
       "      <td>13.502028</td>\n",
       "      <td>-14.571846</td>\n",
       "      <td>-0.007452</td>\n",
       "      <td>2.573001</td>\n",
       "      <td>8.054287</td>\n",
       "      <td>-8.380472</td>\n",
       "    </tr>\n",
       "    <tr>\n",
       "      <th>4</th>\n",
       "      <td>52296320</td>\n",
       "      <td>1.115932</td>\n",
       "      <td>8.098242</td>\n",
       "      <td>20.153109</td>\n",
       "      <td>-15.305898</td>\n",
       "      <td>-0.128642</td>\n",
       "      <td>3.371384</td>\n",
       "      <td>10.398427</td>\n",
       "      <td>-7.921776</td>\n",
       "      <td>0.030056</td>\n",
       "      <td>...</td>\n",
       "      <td>4.838609</td>\n",
       "      <td>-5.128099</td>\n",
       "      <td>0.015284</td>\n",
       "      <td>3.247534</td>\n",
       "      <td>19.405804</td>\n",
       "      <td>-19.950676</td>\n",
       "      <td>0.007421</td>\n",
       "      <td>2.937682</td>\n",
       "      <td>17.203086</td>\n",
       "      <td>-18.702084</td>\n",
       "    </tr>\n",
       "  </tbody>\n",
       "</table>\n",
       "<p>5 rows × 21 columns</p>\n",
       "</div>"
      ],
      "text/plain": [
       "      spec_id  Delta_mean  Delta_std  Delta_max  Delta_min  Theta_mean  \\\n",
       "0   789577333   -0.084822   5.423150  18.199330 -13.821374   -0.003952   \n",
       "1  1552638400    1.229371   7.990273  15.151297 -15.308333   -0.121370   \n",
       "2    14960202   -0.094342   5.023570  14.538416 -15.997628   -0.006453   \n",
       "3   618728447   -0.201644   9.499750  33.493660 -17.531851   -0.000698   \n",
       "4    52296320    1.115932   8.098242  20.153109 -15.305898   -0.128642   \n",
       "\n",
       "   Theta_std  Theta_max  Theta_min  Alpha_mean  ...  Alpha_max  Alpha_min  \\\n",
       "0   5.746205  23.635178 -19.328606    0.012400  ...  20.316888 -21.583509   \n",
       "1   4.752720  12.796805 -13.534956    0.053858  ...   8.339128  -8.147426   \n",
       "2   3.348026  13.126677 -13.095612    0.002106  ...  13.660389 -14.417615   \n",
       "3   2.265310   8.155790  -7.083481   -0.003954  ...   6.207452  -5.562863   \n",
       "4   3.371384  10.398427  -7.921776    0.030056  ...   4.838609  -5.128099   \n",
       "\n",
       "   Beta_mean   Beta_std   Beta_max   Beta_min  Gamma_mean  Gamma_std  \\\n",
       "0  -0.031316  11.087311  82.140423 -85.545198    0.009573   8.853334   \n",
       "1  -0.008322   5.166826  17.001601 -19.983837    0.006472   2.391511   \n",
       "2  -0.001205   4.936423  34.169014 -28.813385   -0.000437   3.537729   \n",
       "3  -0.003710   3.744100  13.502028 -14.571846   -0.007452   2.573001   \n",
       "4   0.015284   3.247534  19.405804 -19.950676    0.007421   2.937682   \n",
       "\n",
       "   Gamma_max  Gamma_min  \n",
       "0  68.455779 -60.802076  \n",
       "1   9.647242 -11.055717  \n",
       "2  20.433267 -21.004481  \n",
       "3   8.054287  -8.380472  \n",
       "4  17.203086 -18.702084  \n",
       "\n",
       "[5 rows x 21 columns]"
      ]
     },
     "execution_count": 288,
     "metadata": {},
     "output_type": "execute_result"
    }
   ],
   "source": [
    "df_spectrogram = pd.read_csv('./All_Spectrogram_df.csv')\n",
    "df_train = pd.read_csv('./Cleaned_Train.csv')\n",
    "DBSCAN_df = pd.read_csv('./DBSCAN_all_Spectrogram_df.csv')\n",
    "\n",
    "df_spectrogram.head()"
   ]
  },
  {
   "cell_type": "code",
   "execution_count": 289,
   "metadata": {},
   "outputs": [],
   "source": [
    "df_spectrogram = pd.read_csv('./All_Spectrogram_df.csv')\n",
    "df_train = pd.read_csv('./Cleaned_Train.csv')\n",
    "DBSCAN_df = pd.read_csv('./DBSCAN_all_Spectrogram_df.csv')\n",
    "EEG_df = pd.read_csv('./ALL_EEG_DF.csv')\n",
    "EEG_df.drop(columns = 'Unnamed: 0', axis = 1, inplace = True)\n",
    "\n",
    "# Merge the dataframes on the 'spec_id' column\n",
    "data = pd.merge(df_spectrogram, df_train, on='spec_id')\n",
    "data = pd.merge(data, DBSCAN_df, on = 'spec_id')\n",
    "data = pd.merge(data, EEG_df, on = 'eeg_id')\n",
    "# data.drop(columns = ['Unnamed: 0_x'], axis = 1, inplace = True)\n",
    "\n",
    "# Assuming 'df' is your pandas DataFrame and you want to rename 'old_column_name' to 'new_column_name'\n",
    "data.rename(columns={'spec_id': 'spectrogram_id'}, inplace=True)\n"
   ]
  },
  {
   "cell_type": "code",
   "execution_count": 290,
   "metadata": {},
   "outputs": [
    {
     "data": {
      "text/html": [
       "<div>\n",
       "<style scoped>\n",
       "    .dataframe tbody tr th:only-of-type {\n",
       "        vertical-align: middle;\n",
       "    }\n",
       "\n",
       "    .dataframe tbody tr th {\n",
       "        vertical-align: top;\n",
       "    }\n",
       "\n",
       "    .dataframe thead th {\n",
       "        text-align: right;\n",
       "    }\n",
       "</style>\n",
       "<table border=\"1\" class=\"dataframe\">\n",
       "  <thead>\n",
       "    <tr style=\"text-align: right;\">\n",
       "      <th></th>\n",
       "      <th>spectrogram_id</th>\n",
       "      <th>Delta_mean</th>\n",
       "      <th>Delta_std</th>\n",
       "      <th>Delta_max</th>\n",
       "      <th>Delta_min</th>\n",
       "      <th>Theta_mean</th>\n",
       "      <th>Theta_std</th>\n",
       "      <th>Theta_max</th>\n",
       "      <th>Theta_min</th>\n",
       "      <th>Alpha_mean</th>\n",
       "      <th>...</th>\n",
       "      <th>target</th>\n",
       "      <th>PCA_mean</th>\n",
       "      <th>PCA_std</th>\n",
       "      <th>PCA_max</th>\n",
       "      <th>PCA_min</th>\n",
       "      <th>DBSCAN_Cluster</th>\n",
       "      <th>eeg_mean</th>\n",
       "      <th>eeg_std_dev</th>\n",
       "      <th>eeg_skewness</th>\n",
       "      <th>eeg_kurtosis</th>\n",
       "    </tr>\n",
       "  </thead>\n",
       "  <tbody>\n",
       "    <tr>\n",
       "      <th>0</th>\n",
       "      <td>789577333</td>\n",
       "      <td>-0.084822</td>\n",
       "      <td>5.423150</td>\n",
       "      <td>18.199330</td>\n",
       "      <td>-13.821374</td>\n",
       "      <td>-0.003952</td>\n",
       "      <td>5.746205</td>\n",
       "      <td>23.635178</td>\n",
       "      <td>-19.328606</td>\n",
       "      <td>0.012400</td>\n",
       "      <td>...</td>\n",
       "      <td>Other</td>\n",
       "      <td>1.291896e-15</td>\n",
       "      <td>19.261924</td>\n",
       "      <td>240.598954</td>\n",
       "      <td>-4.704242</td>\n",
       "      <td>-1</td>\n",
       "      <td>-9.247751e-09</td>\n",
       "      <td>3.277673</td>\n",
       "      <td>0.266662</td>\n",
       "      <td>2.634665</td>\n",
       "    </tr>\n",
       "    <tr>\n",
       "      <th>1</th>\n",
       "      <td>1552638400</td>\n",
       "      <td>1.229371</td>\n",
       "      <td>7.990273</td>\n",
       "      <td>15.151297</td>\n",
       "      <td>-15.308333</td>\n",
       "      <td>-0.121370</td>\n",
       "      <td>4.752720</td>\n",
       "      <td>12.796805</td>\n",
       "      <td>-13.534956</td>\n",
       "      <td>0.053858</td>\n",
       "      <td>...</td>\n",
       "      <td>LPD</td>\n",
       "      <td>0.000000e+00</td>\n",
       "      <td>13.660815</td>\n",
       "      <td>57.496412</td>\n",
       "      <td>-16.031266</td>\n",
       "      <td>-1</td>\n",
       "      <td>-2.080744e-08</td>\n",
       "      <td>3.418201</td>\n",
       "      <td>-0.095620</td>\n",
       "      <td>0.707421</td>\n",
       "    </tr>\n",
       "    <tr>\n",
       "      <th>2</th>\n",
       "      <td>14960202</td>\n",
       "      <td>-0.094342</td>\n",
       "      <td>5.023570</td>\n",
       "      <td>14.538416</td>\n",
       "      <td>-15.997628</td>\n",
       "      <td>-0.006453</td>\n",
       "      <td>3.348026</td>\n",
       "      <td>13.126677</td>\n",
       "      <td>-13.095612</td>\n",
       "      <td>0.002106</td>\n",
       "      <td>...</td>\n",
       "      <td>Other</td>\n",
       "      <td>1.114577e-15</td>\n",
       "      <td>11.647719</td>\n",
       "      <td>110.324860</td>\n",
       "      <td>-10.831656</td>\n",
       "      <td>-1</td>\n",
       "      <td>6.598395e-08</td>\n",
       "      <td>2.695353</td>\n",
       "      <td>-0.128804</td>\n",
       "      <td>0.071505</td>\n",
       "    </tr>\n",
       "    <tr>\n",
       "      <th>3</th>\n",
       "      <td>14960202</td>\n",
       "      <td>-0.094342</td>\n",
       "      <td>5.023570</td>\n",
       "      <td>14.538416</td>\n",
       "      <td>-15.997628</td>\n",
       "      <td>-0.006453</td>\n",
       "      <td>3.348026</td>\n",
       "      <td>13.126677</td>\n",
       "      <td>-13.095612</td>\n",
       "      <td>0.002106</td>\n",
       "      <td>...</td>\n",
       "      <td>Other</td>\n",
       "      <td>0.000000e+00</td>\n",
       "      <td>11.647719</td>\n",
       "      <td>110.324860</td>\n",
       "      <td>-10.831656</td>\n",
       "      <td>-1</td>\n",
       "      <td>6.598395e-08</td>\n",
       "      <td>2.695353</td>\n",
       "      <td>-0.128804</td>\n",
       "      <td>0.071505</td>\n",
       "    </tr>\n",
       "    <tr>\n",
       "      <th>4</th>\n",
       "      <td>14960202</td>\n",
       "      <td>-0.094342</td>\n",
       "      <td>5.023570</td>\n",
       "      <td>14.538416</td>\n",
       "      <td>-15.997628</td>\n",
       "      <td>-0.006453</td>\n",
       "      <td>3.348026</td>\n",
       "      <td>13.126677</td>\n",
       "      <td>-13.095612</td>\n",
       "      <td>0.002106</td>\n",
       "      <td>...</td>\n",
       "      <td>Other</td>\n",
       "      <td>5.572884e-16</td>\n",
       "      <td>11.647719</td>\n",
       "      <td>110.324860</td>\n",
       "      <td>-10.831656</td>\n",
       "      <td>-1</td>\n",
       "      <td>6.598395e-08</td>\n",
       "      <td>2.695353</td>\n",
       "      <td>-0.128804</td>\n",
       "      <td>0.071505</td>\n",
       "    </tr>\n",
       "  </tbody>\n",
       "</table>\n",
       "<p>5 rows × 41 columns</p>\n",
       "</div>"
      ],
      "text/plain": [
       "   spectrogram_id  Delta_mean  Delta_std  Delta_max  Delta_min  Theta_mean  \\\n",
       "0       789577333   -0.084822   5.423150  18.199330 -13.821374   -0.003952   \n",
       "1      1552638400    1.229371   7.990273  15.151297 -15.308333   -0.121370   \n",
       "2        14960202   -0.094342   5.023570  14.538416 -15.997628   -0.006453   \n",
       "3        14960202   -0.094342   5.023570  14.538416 -15.997628   -0.006453   \n",
       "4        14960202   -0.094342   5.023570  14.538416 -15.997628   -0.006453   \n",
       "\n",
       "   Theta_std  Theta_max  Theta_min  Alpha_mean  ...  target      PCA_mean  \\\n",
       "0   5.746205  23.635178 -19.328606    0.012400  ...   Other  1.291896e-15   \n",
       "1   4.752720  12.796805 -13.534956    0.053858  ...     LPD  0.000000e+00   \n",
       "2   3.348026  13.126677 -13.095612    0.002106  ...   Other  1.114577e-15   \n",
       "3   3.348026  13.126677 -13.095612    0.002106  ...   Other  0.000000e+00   \n",
       "4   3.348026  13.126677 -13.095612    0.002106  ...   Other  5.572884e-16   \n",
       "\n",
       "     PCA_std     PCA_max    PCA_min  DBSCAN_Cluster      eeg_mean  \\\n",
       "0  19.261924  240.598954  -4.704242              -1 -9.247751e-09   \n",
       "1  13.660815   57.496412 -16.031266              -1 -2.080744e-08   \n",
       "2  11.647719  110.324860 -10.831656              -1  6.598395e-08   \n",
       "3  11.647719  110.324860 -10.831656              -1  6.598395e-08   \n",
       "4  11.647719  110.324860 -10.831656              -1  6.598395e-08   \n",
       "\n",
       "   eeg_std_dev  eeg_skewness  eeg_kurtosis  \n",
       "0     3.277673      0.266662      2.634665  \n",
       "1     3.418201     -0.095620      0.707421  \n",
       "2     2.695353     -0.128804      0.071505  \n",
       "3     2.695353     -0.128804      0.071505  \n",
       "4     2.695353     -0.128804      0.071505  \n",
       "\n",
       "[5 rows x 41 columns]"
      ]
     },
     "execution_count": 290,
     "metadata": {},
     "output_type": "execute_result"
    }
   ],
   "source": [
    "data.head()"
   ]
  },
  {
   "cell_type": "code",
   "execution_count": 291,
   "metadata": {},
   "outputs": [
    {
     "data": {
      "text/plain": [
       "Index(['spectrogram_id', 'Delta_mean', 'Delta_std', 'Delta_max', 'Delta_min',\n",
       "       'Theta_mean', 'Theta_std', 'Theta_max', 'Theta_min', 'Alpha_mean',\n",
       "       'Alpha_std', 'Alpha_max', 'Alpha_min', 'Beta_mean', 'Beta_std',\n",
       "       'Beta_max', 'Beta_min', 'Gamma_mean', 'Gamma_std', 'Gamma_max',\n",
       "       'Gamma_min', 'eeg_id', 'min', 'max', 'patient_id', 'seizure_vote',\n",
       "       'lpd_vote', 'gpd_vote', 'lrda_vote', 'grda_vote', 'other_vote',\n",
       "       'target', 'PCA_mean', 'PCA_std', 'PCA_max', 'PCA_min', 'DBSCAN_Cluster',\n",
       "       'eeg_mean', 'eeg_std_dev', 'eeg_skewness', 'eeg_kurtosis'],\n",
       "      dtype='object')"
      ]
     },
     "execution_count": 291,
     "metadata": {},
     "output_type": "execute_result"
    }
   ],
   "source": [
    "data.columns"
   ]
  },
  {
   "cell_type": "code",
   "execution_count": 292,
   "metadata": {},
   "outputs": [
    {
     "data": {
      "image/png": "[encoded data removed]",
      "text/plain": [
       "<Figure size 1000x600 with 1 Axes>"
      ]
     },
     "metadata": {},
     "output_type": "display_data"
    },
    {
     "data": {
      "image/png": "[encoded data removed]",
      "text/plain": [
       "<Figure size 800x800 with 1 Axes>"
      ]
     },
     "metadata": {},
     "output_type": "display_data"
    }
   ],
   "source": [
    "# Plotting the Bar Chart\n",
    "plt.figure(figsize=(10, 6))\n",
    "data['target'].value_counts().plot(kind='bar')\n",
    "plt.title('Frequency Distribution of Target Variable')\n",
    "plt.xlabel('Categories')\n",
    "plt.ylabel('Frequency')\n",
    "plt.show()\n",
    "\n",
    "# Plotting the Pie Chart\n",
    "plt.figure(figsize=(8, 8))\n",
    "data['target'].value_counts().plot(kind='pie', autopct='%1.1f%%')\n",
    "plt.title('Proportion of Each Category in Target Variable')\n",
    "plt.ylabel('')\n",
    "plt.show()\n"
   ]
  },
  {
   "cell_type": "code",
   "execution_count": 293,
   "metadata": {},
   "outputs": [],
   "source": [
    "# Initialize the LabelEncoder\n",
    "label_encoder = LabelEncoder()\n",
    "\n",
    "# Assuming your target column is named 'target_column'\n",
    "data['target_column_encoded'] = label_encoder.fit_transform(data['target'])\n",
    "data.drop(columns = ['min', 'max', 'eeg_id', 'min', 'max', 'patient_id', 'seizure_vote',\n",
    "    'lpd_vote', 'gpd_vote', 'lrda_vote', 'grda_vote', 'other_vote',\n",
    "    'target'], axis = 1, inplace = True)"
   ]
  },
  {
   "cell_type": "code",
   "execution_count": 294,
   "metadata": {},
   "outputs": [],
   "source": [
    "data.fillna(data.mean(), inplace=True)"
   ]
  },
  {
   "cell_type": "code",
   "execution_count": 295,
   "metadata": {},
   "outputs": [],
   "source": [
    "# data.to_csv('Spec_Train.csv', index = False)"
   ]
  },
  {
   "cell_type": "code",
   "execution_count": 296,
   "metadata": {},
   "outputs": [
    {
     "data": {
      "text/html": [
       "<div>\n",
       "<style scoped>\n",
       "    .dataframe tbody tr th:only-of-type {\n",
       "        vertical-align: middle;\n",
       "    }\n",
       "\n",
       "    .dataframe tbody tr th {\n",
       "        vertical-align: top;\n",
       "    }\n",
       "\n",
       "    .dataframe thead th {\n",
       "        text-align: right;\n",
       "    }\n",
       "</style>\n",
       "<table border=\"1\" class=\"dataframe\">\n",
       "  <thead>\n",
       "    <tr style=\"text-align: right;\">\n",
       "      <th></th>\n",
       "      <th>spectrogram_id</th>\n",
       "      <th>Delta_mean</th>\n",
       "      <th>Delta_std</th>\n",
       "      <th>Delta_max</th>\n",
       "      <th>Delta_min</th>\n",
       "      <th>Theta_mean</th>\n",
       "      <th>Theta_std</th>\n",
       "      <th>Theta_max</th>\n",
       "      <th>Theta_min</th>\n",
       "      <th>Alpha_mean</th>\n",
       "      <th>...</th>\n",
       "      <th>PCA_mean</th>\n",
       "      <th>PCA_std</th>\n",
       "      <th>PCA_max</th>\n",
       "      <th>PCA_min</th>\n",
       "      <th>DBSCAN_Cluster</th>\n",
       "      <th>eeg_mean</th>\n",
       "      <th>eeg_std_dev</th>\n",
       "      <th>eeg_skewness</th>\n",
       "      <th>eeg_kurtosis</th>\n",
       "      <th>target_column_encoded</th>\n",
       "    </tr>\n",
       "  </thead>\n",
       "  <tbody>\n",
       "    <tr>\n",
       "      <th>0</th>\n",
       "      <td>789577333</td>\n",
       "      <td>-0.084822</td>\n",
       "      <td>5.423150</td>\n",
       "      <td>18.199330</td>\n",
       "      <td>-13.821374</td>\n",
       "      <td>-0.003952</td>\n",
       "      <td>5.746205</td>\n",
       "      <td>23.635178</td>\n",
       "      <td>-19.328606</td>\n",
       "      <td>0.012400</td>\n",
       "      <td>...</td>\n",
       "      <td>1.291896e-15</td>\n",
       "      <td>19.261924</td>\n",
       "      <td>240.598954</td>\n",
       "      <td>-4.704242</td>\n",
       "      <td>-1</td>\n",
       "      <td>-9.247751e-09</td>\n",
       "      <td>3.277673</td>\n",
       "      <td>0.266662</td>\n",
       "      <td>2.634665</td>\n",
       "      <td>4</td>\n",
       "    </tr>\n",
       "    <tr>\n",
       "      <th>1</th>\n",
       "      <td>1552638400</td>\n",
       "      <td>1.229371</td>\n",
       "      <td>7.990273</td>\n",
       "      <td>15.151297</td>\n",
       "      <td>-15.308333</td>\n",
       "      <td>-0.121370</td>\n",
       "      <td>4.752720</td>\n",
       "      <td>12.796805</td>\n",
       "      <td>-13.534956</td>\n",
       "      <td>0.053858</td>\n",
       "      <td>...</td>\n",
       "      <td>0.000000e+00</td>\n",
       "      <td>13.660815</td>\n",
       "      <td>57.496412</td>\n",
       "      <td>-16.031266</td>\n",
       "      <td>-1</td>\n",
       "      <td>-2.080744e-08</td>\n",
       "      <td>3.418201</td>\n",
       "      <td>-0.095620</td>\n",
       "      <td>0.707421</td>\n",
       "      <td>2</td>\n",
       "    </tr>\n",
       "    <tr>\n",
       "      <th>2</th>\n",
       "      <td>14960202</td>\n",
       "      <td>-0.094342</td>\n",
       "      <td>5.023570</td>\n",
       "      <td>14.538416</td>\n",
       "      <td>-15.997628</td>\n",
       "      <td>-0.006453</td>\n",
       "      <td>3.348026</td>\n",
       "      <td>13.126677</td>\n",
       "      <td>-13.095612</td>\n",
       "      <td>0.002106</td>\n",
       "      <td>...</td>\n",
       "      <td>1.114577e-15</td>\n",
       "      <td>11.647719</td>\n",
       "      <td>110.324860</td>\n",
       "      <td>-10.831656</td>\n",
       "      <td>-1</td>\n",
       "      <td>6.598395e-08</td>\n",
       "      <td>2.695353</td>\n",
       "      <td>-0.128804</td>\n",
       "      <td>0.071505</td>\n",
       "      <td>4</td>\n",
       "    </tr>\n",
       "    <tr>\n",
       "      <th>3</th>\n",
       "      <td>14960202</td>\n",
       "      <td>-0.094342</td>\n",
       "      <td>5.023570</td>\n",
       "      <td>14.538416</td>\n",
       "      <td>-15.997628</td>\n",
       "      <td>-0.006453</td>\n",
       "      <td>3.348026</td>\n",
       "      <td>13.126677</td>\n",
       "      <td>-13.095612</td>\n",
       "      <td>0.002106</td>\n",
       "      <td>...</td>\n",
       "      <td>0.000000e+00</td>\n",
       "      <td>11.647719</td>\n",
       "      <td>110.324860</td>\n",
       "      <td>-10.831656</td>\n",
       "      <td>-1</td>\n",
       "      <td>6.598395e-08</td>\n",
       "      <td>2.695353</td>\n",
       "      <td>-0.128804</td>\n",
       "      <td>0.071505</td>\n",
       "      <td>4</td>\n",
       "    </tr>\n",
       "    <tr>\n",
       "      <th>4</th>\n",
       "      <td>14960202</td>\n",
       "      <td>-0.094342</td>\n",
       "      <td>5.023570</td>\n",
       "      <td>14.538416</td>\n",
       "      <td>-15.997628</td>\n",
       "      <td>-0.006453</td>\n",
       "      <td>3.348026</td>\n",
       "      <td>13.126677</td>\n",
       "      <td>-13.095612</td>\n",
       "      <td>0.002106</td>\n",
       "      <td>...</td>\n",
       "      <td>5.572884e-16</td>\n",
       "      <td>11.647719</td>\n",
       "      <td>110.324860</td>\n",
       "      <td>-10.831656</td>\n",
       "      <td>-1</td>\n",
       "      <td>6.598395e-08</td>\n",
       "      <td>2.695353</td>\n",
       "      <td>-0.128804</td>\n",
       "      <td>0.071505</td>\n",
       "      <td>4</td>\n",
       "    </tr>\n",
       "  </tbody>\n",
       "</table>\n",
       "<p>5 rows × 31 columns</p>\n",
       "</div>"
      ],
      "text/plain": [
       "   spectrogram_id  Delta_mean  Delta_std  Delta_max  Delta_min  Theta_mean  \\\n",
       "0       789577333   -0.084822   5.423150  18.199330 -13.821374   -0.003952   \n",
       "1      1552638400    1.229371   7.990273  15.151297 -15.308333   -0.121370   \n",
       "2        14960202   -0.094342   5.023570  14.538416 -15.997628   -0.006453   \n",
       "3        14960202   -0.094342   5.023570  14.538416 -15.997628   -0.006453   \n",
       "4        14960202   -0.094342   5.023570  14.538416 -15.997628   -0.006453   \n",
       "\n",
       "   Theta_std  Theta_max  Theta_min  Alpha_mean  ...      PCA_mean    PCA_std  \\\n",
       "0   5.746205  23.635178 -19.328606    0.012400  ...  1.291896e-15  19.261924   \n",
       "1   4.752720  12.796805 -13.534956    0.053858  ...  0.000000e+00  13.660815   \n",
       "2   3.348026  13.126677 -13.095612    0.002106  ...  1.114577e-15  11.647719   \n",
       "3   3.348026  13.126677 -13.095612    0.002106  ...  0.000000e+00  11.647719   \n",
       "4   3.348026  13.126677 -13.095612    0.002106  ...  5.572884e-16  11.647719   \n",
       "\n",
       "      PCA_max    PCA_min  DBSCAN_Cluster      eeg_mean  eeg_std_dev  \\\n",
       "0  240.598954  -4.704242              -1 -9.247751e-09     3.277673   \n",
       "1   57.496412 -16.031266              -1 -2.080744e-08     3.418201   \n",
       "2  110.324860 -10.831656              -1  6.598395e-08     2.695353   \n",
       "3  110.324860 -10.831656              -1  6.598395e-08     2.695353   \n",
       "4  110.324860 -10.831656              -1  6.598395e-08     2.695353   \n",
       "\n",
       "   eeg_skewness  eeg_kurtosis  target_column_encoded  \n",
       "0      0.266662      2.634665                      4  \n",
       "1     -0.095620      0.707421                      2  \n",
       "2     -0.128804      0.071505                      4  \n",
       "3     -0.128804      0.071505                      4  \n",
       "4     -0.128804      0.071505                      4  \n",
       "\n",
       "[5 rows x 31 columns]"
      ]
     },
     "execution_count": 296,
     "metadata": {},
     "output_type": "execute_result"
    }
   ],
   "source": [
    "data = pd.read_csv('./Spec_Train.csv')\n",
    "data.head()"
   ]
  },
  {
   "cell_type": "code",
   "execution_count": 297,
   "metadata": {},
   "outputs": [],
   "source": [
    "columns_1 = ['eeg_kurtosis', 'eeg_std_dev', 'eeg_skewness', 'eeg_mean', 'Delta_mean', 'target_column_encoded']\n",
    "columns_2 = ['Beta_std', 'Delta_std', 'Delta_min', 'DBSCAN_Cluster', 'Gamma_std', 'target_column_encoded']\n",
    "columns_3 = ['Beta_std', 'Delta_std', 'Delta_min', 'eeg_kurtosis', 'Gamma_std', 'target_column_encoded', 'DBSCAN_Cluster']"
   ]
  },
  {
   "cell_type": "code",
   "execution_count": 298,
   "metadata": {},
   "outputs": [],
   "source": [
    "data = data[columns_3]"
   ]
  },
  {
   "cell_type": "code",
   "execution_count": 299,
   "metadata": {},
   "outputs": [
    {
     "data": {
      "text/plain": [
       "(2636545, 7)"
      ]
     },
     "execution_count": 299,
     "metadata": {},
     "output_type": "execute_result"
    }
   ],
   "source": [
    "data.shape"
   ]
  },
  {
   "cell_type": "markdown",
   "metadata": {},
   "source": [
    "## Feature Vector and Target Variable"
   ]
  },
  {
   "cell_type": "code",
   "execution_count": 300,
   "metadata": {},
   "outputs": [],
   "source": [
    "X = data.drop(columns = ['target_column_encoded'], axis = 1)\n",
    "y = data['target_column_encoded']"
   ]
  },
  {
   "cell_type": "code",
   "execution_count": 301,
   "metadata": {},
   "outputs": [
    {
     "data": {
      "text/html": [
       "<div>\n",
       "<style scoped>\n",
       "    .dataframe tbody tr th:only-of-type {\n",
       "        vertical-align: middle;\n",
       "    }\n",
       "\n",
       "    .dataframe tbody tr th {\n",
       "        vertical-align: top;\n",
       "    }\n",
       "\n",
       "    .dataframe thead th {\n",
       "        text-align: right;\n",
       "    }\n",
       "</style>\n",
       "<table border=\"1\" class=\"dataframe\">\n",
       "  <thead>\n",
       "    <tr style=\"text-align: right;\">\n",
       "      <th></th>\n",
       "      <th>Beta_std</th>\n",
       "      <th>Delta_std</th>\n",
       "      <th>Delta_min</th>\n",
       "      <th>eeg_kurtosis</th>\n",
       "      <th>Gamma_std</th>\n",
       "      <th>DBSCAN_Cluster</th>\n",
       "    </tr>\n",
       "  </thead>\n",
       "  <tbody>\n",
       "    <tr>\n",
       "      <th>0</th>\n",
       "      <td>11.087311</td>\n",
       "      <td>5.423150</td>\n",
       "      <td>-13.821374</td>\n",
       "      <td>2.634665</td>\n",
       "      <td>8.853334</td>\n",
       "      <td>-1</td>\n",
       "    </tr>\n",
       "    <tr>\n",
       "      <th>1</th>\n",
       "      <td>5.166826</td>\n",
       "      <td>7.990273</td>\n",
       "      <td>-15.308333</td>\n",
       "      <td>0.707421</td>\n",
       "      <td>2.391511</td>\n",
       "      <td>-1</td>\n",
       "    </tr>\n",
       "    <tr>\n",
       "      <th>2</th>\n",
       "      <td>4.936423</td>\n",
       "      <td>5.023570</td>\n",
       "      <td>-15.997628</td>\n",
       "      <td>0.071505</td>\n",
       "      <td>3.537729</td>\n",
       "      <td>-1</td>\n",
       "    </tr>\n",
       "    <tr>\n",
       "      <th>3</th>\n",
       "      <td>4.936423</td>\n",
       "      <td>5.023570</td>\n",
       "      <td>-15.997628</td>\n",
       "      <td>0.071505</td>\n",
       "      <td>3.537729</td>\n",
       "      <td>-1</td>\n",
       "    </tr>\n",
       "    <tr>\n",
       "      <th>4</th>\n",
       "      <td>4.936423</td>\n",
       "      <td>5.023570</td>\n",
       "      <td>-15.997628</td>\n",
       "      <td>0.071505</td>\n",
       "      <td>3.537729</td>\n",
       "      <td>-1</td>\n",
       "    </tr>\n",
       "  </tbody>\n",
       "</table>\n",
       "</div>"
      ],
      "text/plain": [
       "    Beta_std  Delta_std  Delta_min  eeg_kurtosis  Gamma_std  DBSCAN_Cluster\n",
       "0  11.087311   5.423150 -13.821374      2.634665   8.853334              -1\n",
       "1   5.166826   7.990273 -15.308333      0.707421   2.391511              -1\n",
       "2   4.936423   5.023570 -15.997628      0.071505   3.537729              -1\n",
       "3   4.936423   5.023570 -15.997628      0.071505   3.537729              -1\n",
       "4   4.936423   5.023570 -15.997628      0.071505   3.537729              -1"
      ]
     },
     "execution_count": 301,
     "metadata": {},
     "output_type": "execute_result"
    }
   ],
   "source": [
    "X.head()"
   ]
  },
  {
   "cell_type": "code",
   "execution_count": 302,
   "metadata": {},
   "outputs": [
    {
     "data": {
      "text/plain": [
       "0    4\n",
       "1    2\n",
       "2    4\n",
       "3    4\n",
       "4    4\n",
       "Name: target_column_encoded, dtype: int64"
      ]
     },
     "execution_count": 302,
     "metadata": {},
     "output_type": "execute_result"
    }
   ],
   "source": [
    "y.head()"
   ]
  },
  {
   "cell_type": "code",
   "execution_count": 303,
   "metadata": {},
   "outputs": [
    {
     "data": {
      "text/plain": [
       "array([4, 2, 0, 5, 1, 3])"
      ]
     },
     "execution_count": 303,
     "metadata": {},
     "output_type": "execute_result"
    }
   ],
   "source": [
    "y.unique()"
   ]
  },
  {
   "cell_type": "markdown",
   "metadata": {},
   "source": [
    "Converting the dataset into an optimized data structure called `Dmatrix` that XGBOOST supports and gives it acclaaimed performance and efficiency gains."
   ]
  },
  {
   "cell_type": "code",
   "execution_count": 304,
   "metadata": {},
   "outputs": [],
   "source": [
    "# Define data_dmatrix\n",
    "data_dmatrix = xgb.DMatrix(data = X, label = y)"
   ]
  },
  {
   "cell_type": "markdown",
   "metadata": {},
   "source": [
    "### Split data into separate training and test set "
   ]
  },
  {
   "cell_type": "code",
   "execution_count": 305,
   "metadata": {},
   "outputs": [],
   "source": [
    "X_train, X_test, y_train, y_test = train_test_split(X, y, test_size = 0.3, random_state = 0)"
   ]
  },
  {
   "cell_type": "markdown",
   "metadata": {},
   "source": [
    "## Bagging and Boosting"
   ]
  },
  {
   "cell_type": "code",
   "execution_count": 306,
   "metadata": {},
   "outputs": [
    {
     "data": {
      "text/plain": [
       "(0.9977672814439089, 0.6048252512124446)"
      ]
     },
     "execution_count": 306,
     "metadata": {},
     "output_type": "execute_result"
    }
   ],
   "source": [
    "# Implementing a Bagging model using Decision Tree as the base estimator\n",
    "bagging_model = BaggingClassifier(base_estimator=DecisionTreeClassifier(), n_estimators=10, random_state=42)\n",
    "bagging_model.fit(X_train, y_train)\n",
    "bagging_predictions = bagging_model.predict(X_test)\n",
    "\n",
    "# Implementing a Boosting model using AdaBoost\n",
    "boosting_model = AdaBoostClassifier(n_estimators=50, random_state=42)\n",
    "boosting_model.fit(X_train, y_train)\n",
    "boosting_predictions = boosting_model.predict(X_test)\n",
    "\n",
    "# Evaluating the models\n",
    "bagging_accuracy = accuracy_score(y_test, bagging_predictions)\n",
    "boosting_accuracy = accuracy_score(y_test, boosting_predictions)\n",
    "\n",
    "bagging_accuracy, boosting_accuracy\n"
   ]
  },
  {
   "cell_type": "markdown",
   "metadata": {},
   "source": [
    "### Train the XGBoost Classifier"
   ]
  },
  {
   "cell_type": "code",
   "execution_count": 307,
   "metadata": {},
   "outputs": [
    {
     "data": {
      "text/html": [
       "<style>#sk-container-id-13 {color: black;}#sk-container-id-13 pre{padding: 0;}#sk-container-id-13 div.sk-toggleable {background-color: white;}#sk-container-id-13 label.sk-toggleable__label {cursor: pointer;display: block;width: 100%;margin-bottom: 0;padding: 0.3em;box-sizing: border-box;text-align: center;}#sk-container-id-13 label.sk-toggleable__label-arrow:before {content: \"▸\";float: left;margin-right: 0.25em;color: #696969;}#sk-container-id-13 label.sk-toggleable__label-arrow:hover:before {color: black;}#sk-container-id-13 div.sk-estimator:hover label.sk-toggleable__label-arrow:before {color: black;}#sk-container-id-13 div.sk-toggleable__content {max-height: 0;max-width: 0;overflow: hidden;text-align: left;background-color: #f0f8ff;}#sk-container-id-13 div.sk-toggleable__content pre {margin: 0.2em;color: black;border-radius: 0.25em;background-color: #f0f8ff;}#sk-container-id-13 input.sk-toggleable__control:checked~div.sk-toggleable__content {max-height: 200px;max-width: 100%;overflow: auto;}#sk-container-id-13 input.sk-toggleable__control:checked~label.sk-toggleable__label-arrow:before {content: \"▾\";}#sk-container-id-13 div.sk-estimator input.sk-toggleable__control:checked~label.sk-toggleable__label {background-color: #d4ebff;}#sk-container-id-13 div.sk-label input.sk-toggleable__control:checked~label.sk-toggleable__label {background-color: #d4ebff;}#sk-container-id-13 input.sk-hidden--visually {border: 0;clip: rect(1px 1px 1px 1px);clip: rect(1px, 1px, 1px, 1px);height: 1px;margin: -1px;overflow: hidden;padding: 0;position: absolute;width: 1px;}#sk-container-id-13 div.sk-estimator {font-family: monospace;background-color: #f0f8ff;border: 1px dotted black;border-radius: 0.25em;box-sizing: border-box;margin-bottom: 0.5em;}#sk-container-id-13 div.sk-estimator:hover {background-color: #d4ebff;}#sk-container-id-13 div.sk-parallel-item::after {content: \"\";width: 100%;border-bottom: 1px solid gray;flex-grow: 1;}#sk-container-id-13 div.sk-label:hover label.sk-toggleable__label {background-color: #d4ebff;}#sk-container-id-13 div.sk-serial::before {content: \"\";position: absolute;border-left: 1px solid gray;box-sizing: border-box;top: 0;bottom: 0;left: 50%;z-index: 0;}#sk-container-id-13 div.sk-serial {display: flex;flex-direction: column;align-items: center;background-color: white;padding-right: 0.2em;padding-left: 0.2em;position: relative;}#sk-container-id-13 div.sk-item {position: relative;z-index: 1;}#sk-container-id-13 div.sk-parallel {display: flex;align-items: stretch;justify-content: center;background-color: white;position: relative;}#sk-container-id-13 div.sk-item::before, #sk-container-id-13 div.sk-parallel-item::before {content: \"\";position: absolute;border-left: 1px solid gray;box-sizing: border-box;top: 0;bottom: 0;left: 50%;z-index: -1;}#sk-container-id-13 div.sk-parallel-item {display: flex;flex-direction: column;z-index: 1;position: relative;background-color: white;}#sk-container-id-13 div.sk-parallel-item:first-child::after {align-self: flex-end;width: 50%;}#sk-container-id-13 div.sk-parallel-item:last-child::after {align-self: flex-start;width: 50%;}#sk-container-id-13 div.sk-parallel-item:only-child::after {width: 0;}#sk-container-id-13 div.sk-dashed-wrapped {border: 1px dashed gray;margin: 0 0.4em 0.5em 0.4em;box-sizing: border-box;padding-bottom: 0.4em;background-color: white;}#sk-container-id-13 div.sk-label label {font-family: monospace;font-weight: bold;display: inline-block;line-height: 1.2em;}#sk-container-id-13 div.sk-label-container {text-align: center;}#sk-container-id-13 div.sk-container {/* jupyter's `normalize.less` sets `[hidden] { display: none; }` but bootstrap.min.css set `[hidden] { display: none !important; }` so we also need the `!important` here to be able to override the default hidden behavior on the sphinx rendered scikit-learn.org. See: https://github.com/scikit-learn/scikit-learn/issues/21755 */display: inline-block !important;position: relative;}#sk-container-id-13 div.sk-text-repr-fallback {display: none;}</style><div id=\"sk-container-id-13\" class=\"sk-top-container\"><div class=\"sk-text-repr-fallback\"><pre>XGBClassifier(alpha=10, base_score=None, booster=None, callbacks=None,\n",
       "              colsample_bylevel=None, colsample_bynode=None,\n",
       "              colsample_bytree=None, device=None, early_stopping_rounds=None,\n",
       "              enable_categorical=False, eval_metric=None, feature_types=None,\n",
       "              gamma=None, grow_policy=None, importance_type=None,\n",
       "              interaction_constraints=None, learning_rate=1.0, max_bin=None,\n",
       "              max_cat_threshold=None, max_cat_to_onehot=None,\n",
       "              max_delta_step=None, max_depth=4, max_leaves=None,\n",
       "              min_child_weight=None, missing=nan, monotone_constraints=None,\n",
       "              multi_strategy=None, n_estimators=100, n_jobs=None, num_class=6, ...)</pre><b>In a Jupyter environment, please rerun this cell to show the HTML representation or trust the notebook. <br />On GitHub, the HTML representation is unable to render, please try loading this page with nbviewer.org.</b></div><div class=\"sk-container\" hidden><div class=\"sk-item\"><div class=\"sk-estimator sk-toggleable\"><input class=\"sk-toggleable__control sk-hidden--visually\" id=\"sk-estimator-id-13\" type=\"checkbox\" checked><label for=\"sk-estimator-id-13\" class=\"sk-toggleable__label sk-toggleable__label-arrow\">XGBClassifier</label><div class=\"sk-toggleable__content\"><pre>XGBClassifier(alpha=10, base_score=None, booster=None, callbacks=None,\n",
       "              colsample_bylevel=None, colsample_bynode=None,\n",
       "              colsample_bytree=None, device=None, early_stopping_rounds=None,\n",
       "              enable_categorical=False, eval_metric=None, feature_types=None,\n",
       "              gamma=None, grow_policy=None, importance_type=None,\n",
       "              interaction_constraints=None, learning_rate=1.0, max_bin=None,\n",
       "              max_cat_threshold=None, max_cat_to_onehot=None,\n",
       "              max_delta_step=None, max_depth=4, max_leaves=None,\n",
       "              min_child_weight=None, missing=nan, monotone_constraints=None,\n",
       "              multi_strategy=None, n_estimators=100, n_jobs=None, num_class=6, ...)</pre></div></div></div></div></div>"
      ],
      "text/plain": [
       "XGBClassifier(alpha=10, base_score=None, booster=None, callbacks=None,\n",
       "              colsample_bylevel=None, colsample_bynode=None,\n",
       "              colsample_bytree=None, device=None, early_stopping_rounds=None,\n",
       "              enable_categorical=False, eval_metric=None, feature_types=None,\n",
       "              gamma=None, grow_policy=None, importance_type=None,\n",
       "              interaction_constraints=None, learning_rate=1.0, max_bin=None,\n",
       "              max_cat_threshold=None, max_cat_to_onehot=None,\n",
       "              max_delta_step=None, max_depth=4, max_leaves=None,\n",
       "              min_child_weight=None, missing=nan, monotone_constraints=None,\n",
       "              multi_strategy=None, n_estimators=100, n_jobs=None, num_class=6, ...)"
      ]
     },
     "execution_count": 307,
     "metadata": {},
     "output_type": "execute_result"
    }
   ],
   "source": [
    "# declare parameters\n",
    "params = {\n",
    "    'objective': 'multi:softprob',  # or 'multi:softmax'\n",
    "    'num_class': 6,\n",
    "    'max_depth': 4,\n",
    "    'alpha': 10,\n",
    "    'learning_rate': 1.0,\n",
    "    'n_estimators': 100\n",
    "}      \n",
    "# instantiate the classifier \n",
    "xgb_clf = XGBClassifier(**params)\n",
    "\n",
    "\n",
    "# fit the classifier to the training data\n",
    "xgb_clf.fit(X_train, y_train)"
   ]
  },
  {
   "cell_type": "code",
   "execution_count": 308,
   "metadata": {},
   "outputs": [
    {
     "data": {
      "text/plain": [
       "Index(['Beta_std', 'Delta_std', 'Delta_min', 'eeg_kurtosis', 'Gamma_std',\n",
       "       'target_column_encoded', 'DBSCAN_Cluster'],\n",
       "      dtype='object')"
      ]
     },
     "execution_count": 308,
     "metadata": {},
     "output_type": "execute_result"
    }
   ],
   "source": [
    "FEATURES = data.columns\n",
    "FEATURES"
   ]
  },
  {
   "cell_type": "code",
   "execution_count": 309,
   "metadata": {},
   "outputs": [],
   "source": [
    "# def objective(trial):\n",
    "#     TARS = {'Seizure':0, 'LPD':1, 'GPD':2, 'LRDA':3, 'GRDA':4, 'Other':5}\n",
    "#     # Suggest hyperparameters\n",
    "#     param = {\n",
    "#         'verbosity': 0,\n",
    "#         'objective': 'multi:softprob',\n",
    "#         'num_class': len(TARS),\n",
    "#         'tree_method': 'hist',  # Use 'gpu_hist' for GPU\n",
    "#         'lambda': trial.suggest_loguniform('lambda', 1e-4, 10.0),\n",
    "#         'alpha': trial.suggest_loguniform('alpha', 1e-4, 10.0),\n",
    "#         'colsample_bytree': trial.suggest_float('colsample_bytree', 0.5, 1.0),\n",
    "#         'subsample': trial.suggest_float('subsample', 0.5, 1.0),\n",
    "#         'learning_rate': trial.suggest_float('learning_rate', 0.01, 0.1),\n",
    "#         'n_estimators': trial.suggest_int('n_estimators', 100, 1000),\n",
    "#         'max_depth': trial.suggest_int('max_depth', 3, 9),\n",
    "#         'min_child_weight': trial.suggest_int('min_child_weight', 1, 300)\n",
    "#     }\n",
    "\n",
    "#     # Create and train XGBoost model\n",
    "#     model = xgb.XGBClassifier(**param)\n",
    "#     model.fit(X_train, y_train)\n",
    "\n",
    "#     # Make predictions and evaluate the model\n",
    "#     preds = model.predict(X_test)\n",
    "#     accuracy = accuracy_score(y_test, preds)\n",
    "\n",
    "#     return accuracy\n",
    "\n",
    "# # Create a study object and optimize the objective function\n",
    "# study = optuna.create_study(direction='maximize')\n",
    "# study.optimize(objective, n_trials=10)  # Adjust the number of trials\n",
    "\n",
    "# print('Number of finished trials:', len(study.trials))\n",
    "# print('Best trial:', study.best_trial.params)"
   ]
  },
  {
   "cell_type": "code",
   "execution_count": 310,
   "metadata": {},
   "outputs": [],
   "source": [
    "Best_Params = {'objective': 'multi:softprob', \n",
    "    'num_class': 6,\n",
    "    'lambda': 0.2298978839228972, \n",
    "    'alpha': 0.00046095109628993276, \n",
    "    'colsample_bytree': 0.9761072796646244, \n",
    "    'subsample': 0.8411932252549665, \n",
    "    'learning_rate': 0.07498125880776464, \n",
    "    'n_estimators': 762, \n",
    "    'max_depth': 8, \n",
    "    'min_child_weight': 137}"
   ]
  },
  {
   "cell_type": "code",
   "execution_count": 311,
   "metadata": {},
   "outputs": [
    {
     "data": {
      "text/html": [
       "<style>#sk-container-id-14 {color: black;}#sk-container-id-14 pre{padding: 0;}#sk-container-id-14 div.sk-toggleable {background-color: white;}#sk-container-id-14 label.sk-toggleable__label {cursor: pointer;display: block;width: 100%;margin-bottom: 0;padding: 0.3em;box-sizing: border-box;text-align: center;}#sk-container-id-14 label.sk-toggleable__label-arrow:before {content: \"▸\";float: left;margin-right: 0.25em;color: #696969;}#sk-container-id-14 label.sk-toggleable__label-arrow:hover:before {color: black;}#sk-container-id-14 div.sk-estimator:hover label.sk-toggleable__label-arrow:before {color: black;}#sk-container-id-14 div.sk-toggleable__content {max-height: 0;max-width: 0;overflow: hidden;text-align: left;background-color: #f0f8ff;}#sk-container-id-14 div.sk-toggleable__content pre {margin: 0.2em;color: black;border-radius: 0.25em;background-color: #f0f8ff;}#sk-container-id-14 input.sk-toggleable__control:checked~div.sk-toggleable__content {max-height: 200px;max-width: 100%;overflow: auto;}#sk-container-id-14 input.sk-toggleable__control:checked~label.sk-toggleable__label-arrow:before {content: \"▾\";}#sk-container-id-14 div.sk-estimator input.sk-toggleable__control:checked~label.sk-toggleable__label {background-color: #d4ebff;}#sk-container-id-14 div.sk-label input.sk-toggleable__control:checked~label.sk-toggleable__label {background-color: #d4ebff;}#sk-container-id-14 input.sk-hidden--visually {border: 0;clip: rect(1px 1px 1px 1px);clip: rect(1px, 1px, 1px, 1px);height: 1px;margin: -1px;overflow: hidden;padding: 0;position: absolute;width: 1px;}#sk-container-id-14 div.sk-estimator {font-family: monospace;background-color: #f0f8ff;border: 1px dotted black;border-radius: 0.25em;box-sizing: border-box;margin-bottom: 0.5em;}#sk-container-id-14 div.sk-estimator:hover {background-color: #d4ebff;}#sk-container-id-14 div.sk-parallel-item::after {content: \"\";width: 100%;border-bottom: 1px solid gray;flex-grow: 1;}#sk-container-id-14 div.sk-label:hover label.sk-toggleable__label {background-color: #d4ebff;}#sk-container-id-14 div.sk-serial::before {content: \"\";position: absolute;border-left: 1px solid gray;box-sizing: border-box;top: 0;bottom: 0;left: 50%;z-index: 0;}#sk-container-id-14 div.sk-serial {display: flex;flex-direction: column;align-items: center;background-color: white;padding-right: 0.2em;padding-left: 0.2em;position: relative;}#sk-container-id-14 div.sk-item {position: relative;z-index: 1;}#sk-container-id-14 div.sk-parallel {display: flex;align-items: stretch;justify-content: center;background-color: white;position: relative;}#sk-container-id-14 div.sk-item::before, #sk-container-id-14 div.sk-parallel-item::before {content: \"\";position: absolute;border-left: 1px solid gray;box-sizing: border-box;top: 0;bottom: 0;left: 50%;z-index: -1;}#sk-container-id-14 div.sk-parallel-item {display: flex;flex-direction: column;z-index: 1;position: relative;background-color: white;}#sk-container-id-14 div.sk-parallel-item:first-child::after {align-self: flex-end;width: 50%;}#sk-container-id-14 div.sk-parallel-item:last-child::after {align-self: flex-start;width: 50%;}#sk-container-id-14 div.sk-parallel-item:only-child::after {width: 0;}#sk-container-id-14 div.sk-dashed-wrapped {border: 1px dashed gray;margin: 0 0.4em 0.5em 0.4em;box-sizing: border-box;padding-bottom: 0.4em;background-color: white;}#sk-container-id-14 div.sk-label label {font-family: monospace;font-weight: bold;display: inline-block;line-height: 1.2em;}#sk-container-id-14 div.sk-label-container {text-align: center;}#sk-container-id-14 div.sk-container {/* jupyter's `normalize.less` sets `[hidden] { display: none; }` but bootstrap.min.css set `[hidden] { display: none !important; }` so we also need the `!important` here to be able to override the default hidden behavior on the sphinx rendered scikit-learn.org. See: https://github.com/scikit-learn/scikit-learn/issues/21755 */display: inline-block !important;position: relative;}#sk-container-id-14 div.sk-text-repr-fallback {display: none;}</style><div id=\"sk-container-id-14\" class=\"sk-top-container\"><div class=\"sk-text-repr-fallback\"><pre>XGBClassifier(alpha=0.00046095109628993276, base_score=None, booster=None,\n",
       "              callbacks=None, colsample_bylevel=None, colsample_bynode=None,\n",
       "              colsample_bytree=0.9761072796646244, device=None,\n",
       "              early_stopping_rounds=None, enable_categorical=False,\n",
       "              eval_metric=None, feature_types=None, gamma=None,\n",
       "              grow_policy=None, importance_type=None,\n",
       "              interaction_constraints=None, lambda=0.2298978839228972,\n",
       "              learning_rate=0.07498125880776464, max_bin=None,\n",
       "              max_cat_threshold=None, max_cat_to_onehot=None,\n",
       "              max_delta_step=None, max_depth=8, max_leaves=None,\n",
       "              min_child_weight=137, missing=nan, monotone_constraints=None,\n",
       "              multi_strategy=None, n_estimators=762, n_jobs=None, ...)</pre><b>In a Jupyter environment, please rerun this cell to show the HTML representation or trust the notebook. <br />On GitHub, the HTML representation is unable to render, please try loading this page with nbviewer.org.</b></div><div class=\"sk-container\" hidden><div class=\"sk-item\"><div class=\"sk-estimator sk-toggleable\"><input class=\"sk-toggleable__control sk-hidden--visually\" id=\"sk-estimator-id-14\" type=\"checkbox\" checked><label for=\"sk-estimator-id-14\" class=\"sk-toggleable__label sk-toggleable__label-arrow\">XGBClassifier</label><div class=\"sk-toggleable__content\"><pre>XGBClassifier(alpha=0.00046095109628993276, base_score=None, booster=None,\n",
       "              callbacks=None, colsample_bylevel=None, colsample_bynode=None,\n",
       "              colsample_bytree=0.9761072796646244, device=None,\n",
       "              early_stopping_rounds=None, enable_categorical=False,\n",
       "              eval_metric=None, feature_types=None, gamma=None,\n",
       "              grow_policy=None, importance_type=None,\n",
       "              interaction_constraints=None, lambda=0.2298978839228972,\n",
       "              learning_rate=0.07498125880776464, max_bin=None,\n",
       "              max_cat_threshold=None, max_cat_to_onehot=None,\n",
       "              max_delta_step=None, max_depth=8, max_leaves=None,\n",
       "              min_child_weight=137, missing=nan, monotone_constraints=None,\n",
       "              multi_strategy=None, n_estimators=762, n_jobs=None, ...)</pre></div></div></div></div></div>"
      ],
      "text/plain": [
       "XGBClassifier(alpha=0.00046095109628993276, base_score=None, booster=None,\n",
       "              callbacks=None, colsample_bylevel=None, colsample_bynode=None,\n",
       "              colsample_bytree=0.9761072796646244, device=None,\n",
       "              early_stopping_rounds=None, enable_categorical=False,\n",
       "              eval_metric=None, feature_types=None, gamma=None,\n",
       "              grow_policy=None, importance_type=None,\n",
       "              interaction_constraints=None, lambda=0.2298978839228972,\n",
       "              learning_rate=0.07498125880776464, max_bin=None,\n",
       "              max_cat_threshold=None, max_cat_to_onehot=None,\n",
       "              max_delta_step=None, max_depth=8, max_leaves=None,\n",
       "              min_child_weight=137, missing=nan, monotone_constraints=None,\n",
       "              multi_strategy=None, n_estimators=762, n_jobs=None, ...)"
      ]
     },
     "execution_count": 311,
     "metadata": {},
     "output_type": "execute_result"
    }
   ],
   "source": [
    "xgb_clf = XGBClassifier(**Best_Params)\n",
    "\n",
    "# fit the classifier to the training data\n",
    "xgb_clf.fit(X_train, y_train)"
   ]
  },
  {
   "cell_type": "code",
   "execution_count": 312,
   "metadata": {},
   "outputs": [],
   "source": [
    "y_pred = xgb_clf.predict(X_test)"
   ]
  },
  {
   "cell_type": "code",
   "execution_count": 313,
   "metadata": {},
   "outputs": [
    {
     "data": {
      "text/html": [
       "<div>\n",
       "<style scoped>\n",
       "    .dataframe tbody tr th:only-of-type {\n",
       "        vertical-align: middle;\n",
       "    }\n",
       "\n",
       "    .dataframe tbody tr th {\n",
       "        vertical-align: top;\n",
       "    }\n",
       "\n",
       "    .dataframe thead th {\n",
       "        text-align: right;\n",
       "    }\n",
       "</style>\n",
       "<table border=\"1\" class=\"dataframe\">\n",
       "  <thead>\n",
       "    <tr style=\"text-align: right;\">\n",
       "      <th></th>\n",
       "      <th>seizure_vote</th>\n",
       "      <th>lpd_vote</th>\n",
       "      <th>gpd_vote</th>\n",
       "      <th>lrda_vote</th>\n",
       "      <th>grda_vote</th>\n",
       "      <th>other_vote</th>\n",
       "    </tr>\n",
       "  </thead>\n",
       "  <tbody>\n",
       "    <tr>\n",
       "      <th>0</th>\n",
       "      <td>1.239799e-05</td>\n",
       "      <td>0.000003</td>\n",
       "      <td>0.003415</td>\n",
       "      <td>0.000006</td>\n",
       "      <td>0.004967</td>\n",
       "      <td>0.991596</td>\n",
       "    </tr>\n",
       "    <tr>\n",
       "      <th>1</th>\n",
       "      <td>2.782288e-06</td>\n",
       "      <td>0.000008</td>\n",
       "      <td>0.004150</td>\n",
       "      <td>0.995687</td>\n",
       "      <td>0.000091</td>\n",
       "      <td>0.000061</td>\n",
       "    </tr>\n",
       "    <tr>\n",
       "      <th>2</th>\n",
       "      <td>9.402218e-06</td>\n",
       "      <td>0.000007</td>\n",
       "      <td>0.006409</td>\n",
       "      <td>0.993514</td>\n",
       "      <td>0.000012</td>\n",
       "      <td>0.000048</td>\n",
       "    </tr>\n",
       "    <tr>\n",
       "      <th>3</th>\n",
       "      <td>9.731705e-07</td>\n",
       "      <td>0.000002</td>\n",
       "      <td>0.004098</td>\n",
       "      <td>0.995891</td>\n",
       "      <td>0.000004</td>\n",
       "      <td>0.000004</td>\n",
       "    </tr>\n",
       "    <tr>\n",
       "      <th>4</th>\n",
       "      <td>6.018395e-06</td>\n",
       "      <td>0.000020</td>\n",
       "      <td>0.997964</td>\n",
       "      <td>0.001907</td>\n",
       "      <td>0.000075</td>\n",
       "      <td>0.000028</td>\n",
       "    </tr>\n",
       "  </tbody>\n",
       "</table>\n",
       "</div>"
      ],
      "text/plain": [
       "   seizure_vote  lpd_vote  gpd_vote  lrda_vote  grda_vote  other_vote\n",
       "0  1.239799e-05  0.000003  0.003415   0.000006   0.004967    0.991596\n",
       "1  2.782288e-06  0.000008  0.004150   0.995687   0.000091    0.000061\n",
       "2  9.402218e-06  0.000007  0.006409   0.993514   0.000012    0.000048\n",
       "3  9.731705e-07  0.000002  0.004098   0.995891   0.000004    0.000004\n",
       "4  6.018395e-06  0.000020  0.997964   0.001907   0.000075    0.000028"
      ]
     },
     "execution_count": 313,
     "metadata": {},
     "output_type": "execute_result"
    }
   ],
   "source": [
    "# Assuming xgb_clf is your trained XGBoost model\n",
    "predictions = xgb_clf.predict_proba(X_test)\n",
    "\n",
    "# Convert predictions to DataFrame\n",
    "df_predictions = pd.DataFrame(predictions, columns=['seizure_vote', 'lpd_vote', 'gpd_vote', 'lrda_vote', 'grda_vote', 'other_vote'])\n",
    "\n",
    "# Display the DataFrame\n",
    "df_predictions.head()\n"
   ]
  },
  {
   "cell_type": "code",
   "execution_count": 314,
   "metadata": {},
   "outputs": [
    {
     "name": "stdout",
     "output_type": "stream",
     "text": [
      "XGBoost model accuracy score: 0.9691\n"
     ]
    }
   ],
   "source": [
    "print('XGBoost model accuracy score: {0:0.4f}'. format(accuracy_score(y_test, y_pred)))"
   ]
  },
  {
   "cell_type": "code",
   "execution_count": 315,
   "metadata": {},
   "outputs": [
    {
     "name": "stdout",
     "output_type": "stream",
     "text": [
      "Accuracy: 0.9691212242276513\n",
      "Precision: 0.9665544901978396\n",
      "Recall: 0.9556948830512785\n",
      "F1 Score: 0.9609352720947525\n",
      "Log Loss: 0.06933126764963195\n",
      "\n",
      "Confusion Matrix:\n",
      "[[ 67063   1374    549     16    455     91]\n",
      " [   204  57855    184     28    593     87]\n",
      " [   220     28 333690    268   2374    872]\n",
      " [    22     25    197 157101    399    182]\n",
      " [   410    173   7048   1147  97788   1682]\n",
      " [   101     23   1906   1017   2749  53043]]\n"
     ]
    }
   ],
   "source": [
    "# Assuming y_test are the true labels and y_pred are the model predictions\n",
    "accuracy = accuracy_score(y_test, y_pred)\n",
    "precision = precision_score(y_test, y_pred, average='macro')\n",
    "recall = recall_score(y_test, y_pred, average='macro')\n",
    "f1 = f1_score(y_test, y_pred, average='macro')\n",
    "conf_matrix = confusion_matrix(y_test, y_pred)\n",
    "logloss = log_loss(y_test, predictions) # Note: for log loss, you need the probability predictions\n",
    "\n",
    "# Print the metrics\n",
    "print(f\"Accuracy: {accuracy}\\nPrecision: {precision}\\nRecall: {recall}\\nF1 Score: {f1}\\nLog Loss: {logloss}\\n\")\n",
    "print(f\"Confusion Matrix:\\n{conf_matrix}\")\n"
   ]
  },
  {
   "cell_type": "markdown",
   "metadata": {},
   "source": [
    "Hamming Loss is a metric for evaluating multi-class classification models, which can also be extended to multi-label classification problems. It measures the fraction of the wrong labels to the total number of labels - in other words, it's the fraction of labels that are incorrectly predicted.\n",
    "\n",
    "Here's a more detailed breakdown:\n",
    "\n",
    "- In a multi-class classification, the Hamming Loss is the fraction of the wrong predictions to the total number of predictions (or instances).\n",
    "- In a multi-label classification, where each instance can have multiple labels, the Hamming Loss measures the fraction of the incorrect labels to the total number of labels across all instances.\n",
    "\n",
    "Mathematically, for N samples, Hamming Loss is calculated as:\n",
    "\n",
    "\\[ \\text{Hamming Loss} = \\frac{1}{N} \\sum_{i=1}^{N} \\frac{\\text{XOR}(y_i, \\hat{y}_i)}{L} \\]\n",
    "\n",
    "Where:\n",
    "- \\( N \\) is the number of samples.\n",
    "- \\( y_i \\) is the true label vector for the \\( i^{th} \\) sample.\n",
    "- \\( \\hat{y}_i \\) is the predicted label vector for the \\( i^{th} \\) sample.\n",
    "- \\( L \\) is the number of labels.\n",
    "- XOR is the exclusive OR operation applied between the true and predicted label vectors, counting the number of label mismatches.\n",
    "\n",
    "A Hamming Loss of 0 means a perfect classifier. As the value increases, the accuracy of the model decreases. One of the key characteristics of Hamming Loss is that it takes into account the prediction error (false positives and false negatives) and the missing error (true positives not predicted as such), which makes it particularly useful for imbalanced datasets.\n",
    "\n",
    "\n",
    "The result is a value between 0 and 1, where a lower value indicates better performance.\n",
    "\n",
    "---"
   ]
  },
  {
   "cell_type": "code",
   "execution_count": 316,
   "metadata": {},
   "outputs": [
    {
     "name": "stdout",
     "output_type": "stream",
     "text": [
      "XGBoost model hamming score: 0.0309\n"
     ]
    }
   ],
   "source": [
    "print('XGBoost model hamming score: {0:0.4f}'. format(hamming_loss(y_test, y_pred)))"
   ]
  },
  {
   "cell_type": "markdown",
   "metadata": {},
   "source": [
    "### 6. Feature importance with XGBoost"
   ]
  },
  {
   "cell_type": "code",
   "execution_count": 317,
   "metadata": {},
   "outputs": [
    {
     "data": {
      "image/png": "[encoded data removed]",
      "text/plain": [
       "<Figure size 640x480 with 1 Axes>"
      ]
     },
     "metadata": {},
     "output_type": "display_data"
    },
    {
     "data": {
      "text/plain": [
       "<Figure size 1600x1200 with 0 Axes>"
      ]
     },
     "metadata": {},
     "output_type": "display_data"
    }
   ],
   "source": [
    "xgb.plot_importance(xgb_clf)\n",
    "plt.figure(figsize = (16, 12))\n",
    "plt.show()"
   ]
  },
  {
   "cell_type": "code",
   "execution_count": 318,
   "metadata": {},
   "outputs": [
    {
     "data": {
      "image/png": "[encoded data removed]",
      "text/plain": [
       "<Figure size 1000x800 with 1 Axes>"
      ]
     },
     "metadata": {},
     "output_type": "display_data"
    }
   ],
   "source": [
    "TOP = 10\n",
    "\n",
    "# Assuming 'model' is your trained model\n",
    "feature_importance = xgb_clf.feature_importances_\n",
    "\n",
    "# Get the feature names from 'train'\n",
    "feature_names = X_train.columns\n",
    "\n",
    "# Sort the feature importances and get the indices of the sorted array\n",
    "sorted_idx = np.argsort(feature_importance)\n",
    "\n",
    "# Plot only the top 'TOP' features\n",
    "fig = plt.figure(figsize=(10, 8))\n",
    "plt.barh(np.arange(len(sorted_idx))[-TOP:], feature_importance[sorted_idx][-TOP:], align='center')\n",
    "plt.yticks(np.arange(len(sorted_idx))[-TOP:], feature_names[sorted_idx][-TOP:])\n",
    "plt.title(f'Feature Importance - Top {TOP}')\n",
    "plt.show()"
   ]
  },
  {
   "cell_type": "code",
   "execution_count": 319,
   "metadata": {},
   "outputs": [],
   "source": [
    "xgb_clf.save_model('xgb_model_5.json')\n",
    "\n",
    "# ... later or in a different environment ...\n",
    "\n",
    "# Create an XGBClassifier instance\n",
    "xgb_clf_loaded = xgb.XGBClassifier(**Best_Params)\n",
    "\n",
    "# Load the model from the file\n",
    "xgb_clf_loaded.load_model('./xgb_model_5.json')\n",
    "\n",
    "# Now xgb_clf_loaded can be used to make predictions\n"
   ]
  }
 ],
 "metadata": {
  "kernelspec": {
   "display_name": "Image_Captioning",
   "language": "python",
   "name": "python3"
  },
  "language_info": {
   "codemirror_mode": {
    "name": "ipython",
    "version": 3
   },
   "file_extension": ".py",
   "mimetype": "text/x-python",
   "name": "python",
   "nbconvert_exporter": "python",
   "pygments_lexer": "ipython3",
   "version": "3.11.4"
  }
 },
 "nbformat": 4,
 "nbformat_minor": 2
}
